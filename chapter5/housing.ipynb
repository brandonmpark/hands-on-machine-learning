{
 "cells": [
  {
   "cell_type": "code",
   "execution_count": 1,
   "metadata": {},
   "outputs": [],
   "source": [
    "from sklearn.datasets import fetch_california_housing\n",
    "\n",
    "housing = fetch_california_housing()\n",
    "X = housing[\"data\"]\n",
    "y = housing[\"target\"]"
   ]
  },
  {
   "cell_type": "code",
   "execution_count": 2,
   "metadata": {},
   "outputs": [],
   "source": [
    "from sklearn.model_selection import train_test_split\n",
    "\n",
    "X_train, X_test, y_train, y_test = train_test_split(X, y)"
   ]
  },
  {
   "cell_type": "code",
   "execution_count": 3,
   "metadata": {},
   "outputs": [],
   "source": [
    "from sklearn.preprocessing import StandardScaler\n",
    "\n",
    "scaler = StandardScaler()\n",
    "X_train_scaled = scaler.fit_transform(X_train)\n",
    "X_test_scaled = scaler.transform(X_test)"
   ]
  },
  {
   "cell_type": "code",
   "execution_count": 4,
   "metadata": {},
   "outputs": [
    {
     "name": "stdout",
     "output_type": "stream",
     "text": [
      "Fitting 5 folds for each of 10 candidates, totalling 50 fits\n",
      "[CV] END .....................................C=0.1, gamma=1; total time=   3.9s\n",
      "[CV] END .....................................C=0.1, gamma=1; total time=   3.8s\n",
      "[CV] END .....................................C=0.1, gamma=1; total time=   3.9s\n",
      "[CV] END .....................................C=0.1, gamma=1; total time=   3.9s\n",
      "[CV] END .....................................C=0.1, gamma=1; total time=   3.9s\n",
      "[CV] END ....................................C=10, gamma=0.1; total time=   5.5s\n",
      "[CV] END ....................................C=10, gamma=0.1; total time=   5.5s\n",
      "[CV] END ....................................C=10, gamma=0.1; total time=   5.6s\n",
      "[CV] END ....................................C=10, gamma=0.1; total time=   5.5s\n",
      "[CV] END ....................................C=10, gamma=0.1; total time=   5.7s\n",
      "[CV] END ..................................C=0.1, gamma=0.01; total time=   4.3s\n",
      "[CV] END ..................................C=0.1, gamma=0.01; total time=   4.3s\n",
      "[CV] END ..................................C=0.1, gamma=0.01; total time=   4.2s\n",
      "[CV] END ..................................C=0.1, gamma=0.01; total time=   4.2s\n",
      "[CV] END ..................................C=0.1, gamma=0.01; total time=   4.3s\n",
      "[CV] END ....................................C=1, gamma=0.01; total time=   4.1s\n",
      "[CV] END ....................................C=1, gamma=0.01; total time=   4.2s\n",
      "[CV] END ....................................C=1, gamma=0.01; total time=   4.1s\n",
      "[CV] END ....................................C=1, gamma=0.01; total time=   4.2s\n",
      "[CV] END ....................................C=1, gamma=0.01; total time=   4.1s\n",
      "[CV] END .....................................C=100, gamma=1; total time= 1.8min\n",
      "[CV] END .....................................C=100, gamma=1; total time= 1.9min\n",
      "[CV] END .....................................C=100, gamma=1; total time= 1.9min\n",
      "[CV] END .....................................C=100, gamma=1; total time= 2.0min\n",
      "[CV] END .....................................C=100, gamma=1; total time= 2.1min\n",
      "[CV] END ......................................C=10, gamma=1; total time=  13.1s\n",
      "[CV] END ......................................C=10, gamma=1; total time=  13.7s\n",
      "[CV] END ......................................C=10, gamma=1; total time=  12.8s\n",
      "[CV] END ......................................C=10, gamma=1; total time=  13.2s\n",
      "[CV] END ......................................C=10, gamma=1; total time=  14.0s\n",
      "[CV] END .......................................C=1, gamma=1; total time=   4.6s\n",
      "[CV] END .......................................C=1, gamma=1; total time=   4.5s\n",
      "[CV] END .......................................C=1, gamma=1; total time=   4.7s\n",
      "[CV] END .......................................C=1, gamma=1; total time=   4.5s\n",
      "[CV] END .......................................C=1, gamma=1; total time=   4.5s\n",
      "[CV] END .....................................C=1, gamma=0.1; total time=   4.2s\n",
      "[CV] END .....................................C=1, gamma=0.1; total time=   4.1s\n",
      "[CV] END .....................................C=1, gamma=0.1; total time=   4.4s\n",
      "[CV] END .....................................C=1, gamma=0.1; total time=   4.2s\n",
      "[CV] END .....................................C=1, gamma=0.1; total time=   4.1s\n",
      "[CV] END ...................................C=0.1, gamma=0.1; total time=   4.2s\n",
      "[CV] END ...................................C=0.1, gamma=0.1; total time=   4.1s\n",
      "[CV] END ...................................C=0.1, gamma=0.1; total time=   4.2s\n",
      "[CV] END ...................................C=0.1, gamma=0.1; total time=   4.1s\n",
      "[CV] END ...................................C=0.1, gamma=0.1; total time=   4.0s\n",
      "[CV] END ...................................C=10, gamma=0.01; total time=   4.6s\n",
      "[CV] END ...................................C=10, gamma=0.01; total time=   4.6s\n",
      "[CV] END ...................................C=10, gamma=0.01; total time=   4.6s\n",
      "[CV] END ...................................C=10, gamma=0.01; total time=   4.5s\n",
      "[CV] END ...................................C=10, gamma=0.01; total time=   4.6s\n"
     ]
    },
    {
     "data": {
      "text/html": [
       "<style>#sk-container-id-1 {color: black;}#sk-container-id-1 pre{padding: 0;}#sk-container-id-1 div.sk-toggleable {background-color: white;}#sk-container-id-1 label.sk-toggleable__label {cursor: pointer;display: block;width: 100%;margin-bottom: 0;padding: 0.3em;box-sizing: border-box;text-align: center;}#sk-container-id-1 label.sk-toggleable__label-arrow:before {content: \"▸\";float: left;margin-right: 0.25em;color: #696969;}#sk-container-id-1 label.sk-toggleable__label-arrow:hover:before {color: black;}#sk-container-id-1 div.sk-estimator:hover label.sk-toggleable__label-arrow:before {color: black;}#sk-container-id-1 div.sk-toggleable__content {max-height: 0;max-width: 0;overflow: hidden;text-align: left;background-color: #f0f8ff;}#sk-container-id-1 div.sk-toggleable__content pre {margin: 0.2em;color: black;border-radius: 0.25em;background-color: #f0f8ff;}#sk-container-id-1 input.sk-toggleable__control:checked~div.sk-toggleable__content {max-height: 200px;max-width: 100%;overflow: auto;}#sk-container-id-1 input.sk-toggleable__control:checked~label.sk-toggleable__label-arrow:before {content: \"▾\";}#sk-container-id-1 div.sk-estimator input.sk-toggleable__control:checked~label.sk-toggleable__label {background-color: #d4ebff;}#sk-container-id-1 div.sk-label input.sk-toggleable__control:checked~label.sk-toggleable__label {background-color: #d4ebff;}#sk-container-id-1 input.sk-hidden--visually {border: 0;clip: rect(1px 1px 1px 1px);clip: rect(1px, 1px, 1px, 1px);height: 1px;margin: -1px;overflow: hidden;padding: 0;position: absolute;width: 1px;}#sk-container-id-1 div.sk-estimator {font-family: monospace;background-color: #f0f8ff;border: 1px dotted black;border-radius: 0.25em;box-sizing: border-box;margin-bottom: 0.5em;}#sk-container-id-1 div.sk-estimator:hover {background-color: #d4ebff;}#sk-container-id-1 div.sk-parallel-item::after {content: \"\";width: 100%;border-bottom: 1px solid gray;flex-grow: 1;}#sk-container-id-1 div.sk-label:hover label.sk-toggleable__label {background-color: #d4ebff;}#sk-container-id-1 div.sk-serial::before {content: \"\";position: absolute;border-left: 1px solid gray;box-sizing: border-box;top: 0;bottom: 0;left: 50%;z-index: 0;}#sk-container-id-1 div.sk-serial {display: flex;flex-direction: column;align-items: center;background-color: white;padding-right: 0.2em;padding-left: 0.2em;position: relative;}#sk-container-id-1 div.sk-item {position: relative;z-index: 1;}#sk-container-id-1 div.sk-parallel {display: flex;align-items: stretch;justify-content: center;background-color: white;position: relative;}#sk-container-id-1 div.sk-item::before, #sk-container-id-1 div.sk-parallel-item::before {content: \"\";position: absolute;border-left: 1px solid gray;box-sizing: border-box;top: 0;bottom: 0;left: 50%;z-index: -1;}#sk-container-id-1 div.sk-parallel-item {display: flex;flex-direction: column;z-index: 1;position: relative;background-color: white;}#sk-container-id-1 div.sk-parallel-item:first-child::after {align-self: flex-end;width: 50%;}#sk-container-id-1 div.sk-parallel-item:last-child::after {align-self: flex-start;width: 50%;}#sk-container-id-1 div.sk-parallel-item:only-child::after {width: 0;}#sk-container-id-1 div.sk-dashed-wrapped {border: 1px dashed gray;margin: 0 0.4em 0.5em 0.4em;box-sizing: border-box;padding-bottom: 0.4em;background-color: white;}#sk-container-id-1 div.sk-label label {font-family: monospace;font-weight: bold;display: inline-block;line-height: 1.2em;}#sk-container-id-1 div.sk-label-container {text-align: center;}#sk-container-id-1 div.sk-container {/* jupyter's `normalize.less` sets `[hidden] { display: none; }` but bootstrap.min.css set `[hidden] { display: none !important; }` so we also need the `!important` here to be able to override the default hidden behavior on the sphinx rendered scikit-learn.org. See: https://github.com/scikit-learn/scikit-learn/issues/21755 */display: inline-block !important;position: relative;}#sk-container-id-1 div.sk-text-repr-fallback {display: none;}</style><div id=\"sk-container-id-1\" class=\"sk-top-container\"><div class=\"sk-text-repr-fallback\"><pre>RandomizedSearchCV(cv=5, estimator=SVR(),\n",
       "                   param_distributions={&#x27;C&#x27;: [0.1, 1, 10, 100],\n",
       "                                        &#x27;gamma&#x27;: [0.01, 0.1, 1]},\n",
       "                   verbose=2)</pre><b>In a Jupyter environment, please rerun this cell to show the HTML representation or trust the notebook. <br />On GitHub, the HTML representation is unable to render, please try loading this page with nbviewer.org.</b></div><div class=\"sk-container\" hidden><div class=\"sk-item sk-dashed-wrapped\"><div class=\"sk-label-container\"><div class=\"sk-label sk-toggleable\"><input class=\"sk-toggleable__control sk-hidden--visually\" id=\"sk-estimator-id-1\" type=\"checkbox\" ><label for=\"sk-estimator-id-1\" class=\"sk-toggleable__label sk-toggleable__label-arrow\">RandomizedSearchCV</label><div class=\"sk-toggleable__content\"><pre>RandomizedSearchCV(cv=5, estimator=SVR(),\n",
       "                   param_distributions={&#x27;C&#x27;: [0.1, 1, 10, 100],\n",
       "                                        &#x27;gamma&#x27;: [0.01, 0.1, 1]},\n",
       "                   verbose=2)</pre></div></div></div><div class=\"sk-parallel\"><div class=\"sk-parallel-item\"><div class=\"sk-item\"><div class=\"sk-label-container\"><div class=\"sk-label sk-toggleable\"><input class=\"sk-toggleable__control sk-hidden--visually\" id=\"sk-estimator-id-2\" type=\"checkbox\" ><label for=\"sk-estimator-id-2\" class=\"sk-toggleable__label sk-toggleable__label-arrow\">estimator: SVR</label><div class=\"sk-toggleable__content\"><pre>SVR()</pre></div></div></div><div class=\"sk-serial\"><div class=\"sk-item\"><div class=\"sk-estimator sk-toggleable\"><input class=\"sk-toggleable__control sk-hidden--visually\" id=\"sk-estimator-id-3\" type=\"checkbox\" ><label for=\"sk-estimator-id-3\" class=\"sk-toggleable__label sk-toggleable__label-arrow\">SVR</label><div class=\"sk-toggleable__content\"><pre>SVR()</pre></div></div></div></div></div></div></div></div></div></div>"
      ],
      "text/plain": [
       "RandomizedSearchCV(cv=5, estimator=SVR(),\n",
       "                   param_distributions={'C': [0.1, 1, 10, 100],\n",
       "                                        'gamma': [0.01, 0.1, 1]},\n",
       "                   verbose=2)"
      ]
     },
     "execution_count": 4,
     "metadata": {},
     "output_type": "execute_result"
    }
   ],
   "source": [
    "from sklearn.svm import SVR\n",
    "from sklearn.model_selection import RandomizedSearchCV\n",
    "\n",
    "param_grid = {\n",
    "    \"C\": [0.1, 1, 10, 100],\n",
    "    \"gamma\": [0.01, 0.1, 1],\n",
    "}\n",
    "\n",
    "svr = SVR(kernel='rbf')\n",
    "\n",
    "random_search = RandomizedSearchCV(svr, param_grid, cv=5, n_iter=10, verbose=2)\n",
    "random_search.fit(X_train_scaled, y_train)"
   ]
  },
  {
   "cell_type": "code",
   "execution_count": 5,
   "metadata": {},
   "outputs": [
    {
     "name": "stdout",
     "output_type": "stream",
     "text": [
      "RMSE:  0.5830560534171257\n"
     ]
    }
   ],
   "source": [
    "model = random_search.best_estimator_\n",
    "\n",
    "from sklearn.metrics import mean_squared_error\n",
    "import numpy as np\n",
    "\n",
    "y_pred = model.predict(X_test_scaled)\n",
    "mse = mean_squared_error(y_test, y_pred)\n",
    "print(\"RMSE: \", np.sqrt(mse))"
   ]
  },
  {
   "cell_type": "code",
   "execution_count": null,
   "metadata": {},
   "outputs": [],
   "source": []
  }
 ],
 "metadata": {
  "kernelspec": {
   "display_name": "Python 3",
   "language": "python",
   "name": "python3"
  },
  "language_info": {
   "codemirror_mode": {
    "name": "ipython",
    "version": 3
   },
   "file_extension": ".py",
   "mimetype": "text/x-python",
   "name": "python",
   "nbconvert_exporter": "python",
   "pygments_lexer": "ipython3",
   "version": "3.11.7"
  }
 },
 "nbformat": 4,
 "nbformat_minor": 2
}
