{
 "cells": [
  {
   "cell_type": "code",
   "execution_count": 19,
   "metadata": {},
   "outputs": [],
   "source": [
    "# Import packages\n",
    "import os\n",
    "import tarfile\n",
    "import urllib\n",
    "import pandas as pd\n",
    "import numpy as np\n",
    "import matplotlib.pyplot as plt"
   ]
  },
  {
   "cell_type": "code",
   "execution_count": 20,
   "metadata": {},
   "outputs": [],
   "source": [
    "DOWNLOAD_ROOT = \"https://raw.githubusercontent.com/ageron/handson-ml/master/\"\n",
    "HOUSING_PATH = \"datasets/housing\"\n",
    "HOUSING_URL = DOWNLOAD_ROOT + HOUSING_PATH + \"/housing.tgz\"\n",
    "\n",
    "\n",
    "def fetch_housing_data(housing_url=HOUSING_URL, housing_path=HOUSING_PATH):\n",
    "    if not os.path.isdir('../' + housing_path):\n",
    "        os.makedirs('../' + housing_path)\n",
    "    tgz_path = os.path.join('../' + housing_path, \"housing.tgz\")\n",
    "    urllib.request.urlretrieve(housing_url, tgz_path)\n",
    "    housing_tgz = tarfile.open(tgz_path)\n",
    "    housing_tgz.extractall(path='../' + housing_path)\n",
    "    housing_tgz.close()\n",
    "\n",
    "\n",
    "def load_housing_data(housing_path=HOUSING_PATH):\n",
    "    csv_path = os.path.join('../' + housing_path, \"housing.csv\")\n",
    "    return pd.read_csv(csv_path)\n",
    "\n",
    "\n",
    "fetch_housing_data()\n",
    "housing = load_housing_data()"
   ]
  },
  {
   "cell_type": "code",
   "execution_count": 21,
   "metadata": {},
   "outputs": [],
   "source": [
    "from sklearn.model_selection import train_test_split\n",
    "\n",
    "train_set, test_set = train_test_split(housing, test_size=0.2, random_state=42)\n",
    "housing = train_set.drop(\"median_house_value\", axis=1)\n",
    "housing_labels = train_set[\"median_house_value\"].copy()"
   ]
  },
  {
   "cell_type": "code",
   "execution_count": 22,
   "metadata": {},
   "outputs": [],
   "source": [
    "from sklearn.base import BaseEstimator, TransformerMixin\n",
    "\n",
    "class CombinedAttributesAdder(BaseEstimator, TransformerMixin):\n",
    "    def __init__(self, add_rooms_per_household=True, add_population_per_household=True, add_bedrooms_per_room=True):\n",
    "        self.add_rooms_per_household = add_rooms_per_household\n",
    "        self.add_population_per_household = add_population_per_household\n",
    "        self.add_bedrooms_per_room = add_bedrooms_per_room\n",
    "    def fit(self, X, y=None):\n",
    "        return self\n",
    "    def transform(self, X):\n",
    "        rooms_ix, bedrooms_ix, population_ix, household_ix = 3, 4, 5, 6\n",
    "        rooms_per_household = X[:, rooms_ix] / X[:, household_ix]\n",
    "        population_per_household = X[:, population_ix] / X[:, household_ix]\n",
    "        bedrooms_per_room = X[:, bedrooms_ix] / X[:, rooms_ix]\n",
    "        if self.add_rooms_per_household:\n",
    "            X = np.c_[X, rooms_per_household]\n",
    "        if self.add_population_per_household:\n",
    "            X = np.c_[X, population_per_household]\n",
    "        if self.add_bedrooms_per_room:\n",
    "            X = np.c_[X, bedrooms_per_room]\n",
    "        return X"
   ]
  },
  {
   "cell_type": "code",
   "execution_count": 23,
   "metadata": {},
   "outputs": [],
   "source": [
    "from sklearn.pipeline import Pipeline\n",
    "from sklearn.preprocessing import StandardScaler\n",
    "from sklearn.impute import SimpleImputer\n",
    "from sklearn.preprocessing import OneHotEncoder\n",
    "from sklearn.compose import ColumnTransformer\n",
    "from sklearn.preprocessing import LabelEncoder\n",
    "\n",
    "num_transformer = Pipeline([\n",
    "    ('imputer', SimpleImputer(strategy=\"median\")),\n",
    "    ('attribs_adder', CombinedAttributesAdder()),\n",
    "    ('std_scaler', StandardScaler())\n",
    "])\n",
    "\n",
    "cat_transformer = Pipeline([\n",
    "    ('imputer', SimpleImputer(strategy=\"most_frequent\")),\n",
    "    ('label_encoder', LabelEncoder()),\n",
    "    ('cat_encoder', OneHotEncoder())\n",
    "])\n",
    "\n",
    "preprocessor = ColumnTransformer([\n",
    "    (\"num_transformer\", num_transformer, list(housing.drop(\"ocean_proximity\", axis=1).columns)),\n",
    "    (\"cat_transformer\", cat_transformer, [\"ocean_proximity\"])\n",
    "])"
   ]
  },
  {
   "cell_type": "code",
   "execution_count": 24,
   "metadata": {},
   "outputs": [],
   "source": [
    "pipeline = Pipeline([\n",
    "    ('preprocessor', preprocessor),\n",
    "    ('model', None)\n",
    "])"
   ]
  },
  {
   "cell_type": "code",
   "execution_count": 27,
   "metadata": {},
   "outputs": [
    {
     "name": "stdout",
     "output_type": "stream",
     "text": [
      "{'preprocessor__num_transformer__imputer__strategy': 'mean', 'preprocessor__num_transformer__attribs_adder__add_rooms_per_household': False, 'preprocessor__num_transformer__attribs_adder__add_population_per_household': False, 'preprocessor__num_transformer__attribs_adder__add_bedrooms_per_room': False, 'model': RandomForestRegressor()}\n"
     ]
    }
   ],
   "source": [
    "from sklearn.model_selection import RandomizedSearchCV\n",
    "from sklearn.linear_model import LinearRegression\n",
    "from sklearn.ensemble import RandomForestRegressor\n",
    "from sklearn.svm import SVR\n",
    "from sklearn.neighbors import KNeighborsRegressor\n",
    "\n",
    "param_grid = [\n",
    "    {'preprocessor__num_transformer__imputer__strategy': ['mean', 'median', 'most_frequent'],\n",
    "     'preprocessor__num_transformer__attribs_adder__add_rooms_per_household': [True, False],\n",
    "     'preprocessor__num_transformer__attribs_adder__add_population_per_household': [True, False],\n",
    "     'preprocessor__num_transformer__attribs_adder__add_bedrooms_per_room': [True, False],\n",
    "     'model': [LinearRegression(), RandomForestRegressor(), SVR(), KNeighborsRegressor()]\n",
    "     }\n",
    "]\n",
    "\n",
    "grid_search = RandomizedSearchCV(pipeline, param_grid, cv=5, scoring='neg_mean_squared_error', n_jobs=-1)\n",
    "grid_search.fit(housing, housing_labels)\n",
    "print(grid_search.best_params_)"
   ]
  },
  {
   "cell_type": "code",
   "execution_count": 32,
   "metadata": {},
   "outputs": [
    {
     "name": "stderr",
     "output_type": "stream",
     "text": [
      "/Users/brandonmpark/Desktop/Coding/hands-on-machine-learning/.conda/lib/python3.11/site-packages/joblib/externals/loky/process_executor.py:752: UserWarning: A worker stopped while some jobs were given to the executor. This can be caused by a too short worker timeout or by a memory leak.\n",
      "  warnings.warn(\n"
     ]
    },
    {
     "name": "stdout",
     "output_type": "stream",
     "text": [
      "{'preprocessor__num_transformer__imputer__strategy': 'mean', 'preprocessor__num_transformer__attribs_adder__add_rooms_per_household': True, 'preprocessor__num_transformer__attribs_adder__add_population_per_household': True, 'preprocessor__num_transformer__attribs_adder__add_bedrooms_per_room': True, 'model__n_estimators': 300, 'model__max_features': 6, 'model': RandomForestRegressor()}\n"
     ]
    }
   ],
   "source": [
    "param_grid = [\n",
    "    {'preprocessor__num_transformer__imputer__strategy': ['mean'],\n",
    "     'preprocessor__num_transformer__attribs_adder__add_rooms_per_household': [True],\n",
    "     'preprocessor__num_transformer__attribs_adder__add_population_per_household': [True],\n",
    "     'preprocessor__num_transformer__attribs_adder__add_bedrooms_per_room': [True],\n",
    "     'model': [RandomForestRegressor()],\n",
    "     'model__n_estimators': [3, 10, 30, 100, 300, 1000],\n",
    "     'model__max_features': [2, 4, 6, 8, 10]\n",
    "     }\n",
    "]\n",
    "\n",
    "grid_search = RandomizedSearchCV(pipeline, param_grid, cv=5, scoring='neg_mean_squared_error', n_jobs=-1)\n",
    "grid_search.fit(housing, housing_labels)\n",
    "print(grid_search.best_params_)"
   ]
  },
  {
   "cell_type": "code",
   "execution_count": 33,
   "metadata": {},
   "outputs": [
    {
     "name": "stdout",
     "output_type": "stream",
     "text": [
      "0.8213021914758261\n"
     ]
    }
   ],
   "source": [
    "model = grid_search.best_estimator_\n",
    "model.fit(housing, housing_labels)\n",
    "print(model.score(test_set.drop(\"median_house_value\", axis=1), test_set[\"median_house_value\"]))"
   ]
  },
  {
   "cell_type": "code",
   "execution_count": null,
   "metadata": {},
   "outputs": [],
   "source": []
  }
 ],
 "metadata": {
  "kernelspec": {
   "display_name": "Python 3",
   "language": "python",
   "name": "python3"
  },
  "language_info": {
   "codemirror_mode": {
    "name": "ipython",
    "version": 3
   },
   "file_extension": ".py",
   "mimetype": "text/x-python",
   "name": "python",
   "nbconvert_exporter": "python",
   "pygments_lexer": "ipython3",
   "version": "3.11.7"
  }
 },
 "nbformat": 4,
 "nbformat_minor": 2
}
