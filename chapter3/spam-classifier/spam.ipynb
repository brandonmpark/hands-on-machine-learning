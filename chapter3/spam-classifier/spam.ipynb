{
 "cells": [
  {
   "cell_type": "code",
   "execution_count": 5,
   "metadata": {},
   "outputs": [],
   "source": [
    "import pandas as pd\n",
    "import tarfile\n",
    "import matplotlib.pyplot as plt\n",
    "\n",
    "def read_tar(path, label):\n",
    "    tar = tarfile.open(path, 'r:bz2')\n",
    "    data = []\n",
    "    for member in tar.getmembers():\n",
    "        f = tar.extractfile(member)\n",
    "        if f is not None:\n",
    "            content = f.read().decode('latin-1')\n",
    "            data.append({'text': content, 'label': label})\n",
    "    return pd.DataFrame(data)\n",
    "\n",
    "easy_ham = read_tar('datasets/20030228_easy_ham.tar.bz2', 0)\n",
    "hard_ham = read_tar('datasets/20030228_hard_ham.tar.bz2', 0)\n",
    "spam = read_tar('datasets/20030228_spam.tar.bz2', 1)\n",
    "spam_2 = read_tar('datasets/20050311_spam_2.tar.bz2', 1)\n",
    "\n",
    "df = pd.concat([easy_ham, hard_ham, spam, spam_2])"
   ]
  },
  {
   "cell_type": "code",
   "execution_count": 6,
   "metadata": {},
   "outputs": [],
   "source": [
    "from sklearn.model_selection import train_test_split\n",
    "\n",
    "X_train, X_test, y_train, y_test = train_test_split(df['text'], df['label'], test_size=0.2, random_state=42, stratify=df['label'])"
   ]
  },
  {
   "cell_type": "code",
   "execution_count": 7,
   "metadata": {},
   "outputs": [],
   "source": [
    "from sklearn.base import BaseEstimator, TransformerMixin\n",
    "\n",
    "class TextTransformer(BaseEstimator, TransformerMixin):\n",
    "    def __init__(self, replace_urls=True, replace_numbers=True):\n",
    "        self.replace_urls = replace_urls\n",
    "        self.replace_numbers = replace_numbers\n",
    "\n",
    "    def fit(self, X, y=None):\n",
    "        return self\n",
    "\n",
    "    def transform(self, X):\n",
    "        X = X.str.lower()\n",
    "        if self.replace_urls:\n",
    "            X = X.str.replace(r'https?://\\S+|www\\.\\S+', 'url')\n",
    "        if self.replace_numbers:\n",
    "            X = X.str.replace(r'\\d+', 'num')\n",
    "        return X"
   ]
  },
  {
   "cell_type": "code",
   "execution_count": 8,
   "metadata": {},
   "outputs": [],
   "source": [
    "from sklearn.pipeline import Pipeline\n",
    "from sklearn.preprocessing import StandardScaler\n",
    "from sklearn.feature_extraction.text import CountVectorizer\n",
    "\n",
    "pipeline = Pipeline([\n",
    "    ('text_transformer', TextTransformer()),\n",
    "    ('count_vectorizer', CountVectorizer()),\n",
    "    ('scaler', StandardScaler(with_mean=False)),\n",
    "    ('model', None)\n",
    "])"
   ]
  },
  {
   "cell_type": "code",
   "execution_count": 9,
   "metadata": {},
   "outputs": [
    {
     "data": {
      "image/png": "[encoded data removed]",
      "text/plain": [
       "<Figure size 640x480 with 1 Axes>"
      ]
     },
     "metadata": {},
     "output_type": "display_data"
    }
   ],
   "source": [
    "from sklearn.model_selection import cross_val_score, KFold\n",
    "from sklearn.linear_model import LogisticRegression\n",
    "from sklearn.neighbors import KNeighborsClassifier\n",
    "from sklearn.tree import DecisionTreeClassifier\n",
    "\n",
    "models = {\n",
    "    'LogisticRegression': LogisticRegression(),\n",
    "    'KNeighborsClassifier': KNeighborsClassifier(),\n",
    "    'DecisionTreeClassifier': DecisionTreeClassifier()\n",
    "}\n",
    "\n",
    "results = []\n",
    "\n",
    "for model in models.values():\n",
    "    pipeline.set_params(model=model)\n",
    "    kf = KFold(n_splits=5, shuffle=True, random_state=42)\n",
    "    scores = cross_val_score(pipeline, X_train, y_train, cv=kf, scoring='f1')\n",
    "    results.append(scores)\n",
    "\n",
    "plt.boxplot(results, labels=models.keys())\n",
    "plt.show()"
   ]
  },
  {
   "cell_type": "code",
   "execution_count": 10,
   "metadata": {},
   "outputs": [
    {
     "name": "stderr",
     "output_type": "stream",
     "text": [
      "/Users/brandonmpark/Desktop/Coding/spam-classifier/.conda/lib/python3.11/site-packages/sklearn/model_selection/_validation.py:425: FitFailedWarning: \n",
      "20 fits failed out of a total of 40.\n",
      "The score on these train-test partitions for these parameters will be set to nan.\n",
      "If these failures are not expected, you can try to debug them by setting error_score='raise'.\n",
      "\n",
      "Below are more details about the failures:\n",
      "--------------------------------------------------------------------------------\n",
      "20 fits failed with the following error:\n",
      "Traceback (most recent call last):\n",
      "  File \"/Users/brandonmpark/Desktop/Coding/spam-classifier/.conda/lib/python3.11/site-packages/sklearn/model_selection/_validation.py\", line 729, in _fit_and_score\n",
      "    estimator.fit(X_train, y_train, **fit_params)\n",
      "  File \"/Users/brandonmpark/Desktop/Coding/spam-classifier/.conda/lib/python3.11/site-packages/sklearn/base.py\", line 1152, in wrapper\n",
      "    return fit_method(estimator, *args, **kwargs)\n",
      "           ^^^^^^^^^^^^^^^^^^^^^^^^^^^^^^^^^^^^^^\n",
      "  File \"/Users/brandonmpark/Desktop/Coding/spam-classifier/.conda/lib/python3.11/site-packages/sklearn/pipeline.py\", line 427, in fit\n",
      "    self._final_estimator.fit(Xt, y, **fit_params_last_step)\n",
      "  File \"/Users/brandonmpark/Desktop/Coding/spam-classifier/.conda/lib/python3.11/site-packages/sklearn/base.py\", line 1152, in wrapper\n",
      "    return fit_method(estimator, *args, **kwargs)\n",
      "           ^^^^^^^^^^^^^^^^^^^^^^^^^^^^^^^^^^^^^^\n",
      "  File \"/Users/brandonmpark/Desktop/Coding/spam-classifier/.conda/lib/python3.11/site-packages/sklearn/linear_model/_logistic.py\", line 1169, in fit\n",
      "    solver = _check_solver(self.solver, self.penalty, self.dual)\n",
      "             ^^^^^^^^^^^^^^^^^^^^^^^^^^^^^^^^^^^^^^^^^^^^^^^^^^^\n",
      "  File \"/Users/brandonmpark/Desktop/Coding/spam-classifier/.conda/lib/python3.11/site-packages/sklearn/linear_model/_logistic.py\", line 56, in _check_solver\n",
      "    raise ValueError(\n",
      "ValueError: Solver lbfgs supports only 'l2' or 'none' penalties, got l1 penalty.\n",
      "\n",
      "  warnings.warn(some_fits_failed_message, FitFailedWarning)\n",
      "/Users/brandonmpark/Desktop/Coding/spam-classifier/.conda/lib/python3.11/site-packages/sklearn/model_selection/_search.py:979: UserWarning: One or more of the test scores are non-finite: [       nan 0.96022154        nan 0.96094491        nan 0.96096977\n",
      "        nan 0.96370981]\n",
      "  warnings.warn(\n"
     ]
    },
    {
     "name": "stdout",
     "output_type": "stream",
     "text": [
      "{'model__C': 100, 'model__penalty': 'l2'}\n"
     ]
    }
   ],
   "source": [
    "params = {\n",
    "    'model__C': [0.1, 1, 10, 100],\n",
    "    'model__penalty': ['l1', 'l2']\n",
    "}\n",
    "\n",
    "from sklearn.model_selection import GridSearchCV\n",
    "\n",
    "pipeline.set_params(model=LogisticRegression())\n",
    "grid = GridSearchCV(pipeline, params, cv=5, scoring='f1')\n",
    "grid.fit(X_train, y_train)\n",
    "print(grid.best_params_)"
   ]
  },
  {
   "cell_type": "code",
   "execution_count": 20,
   "metadata": {},
   "outputs": [
    {
     "name": "stdout",
     "output_type": "stream",
     "text": [
      "[[546   4]\n",
      " [ 24 356]]\n"
     ]
    }
   ],
   "source": [
    "y_pred = grid.predict(X_test)\n",
    "from sklearn.metrics import confusion_matrix\n",
    "\n",
    "print(confusion_matrix(y_test, y_pred))"
   ]
  },
  {
   "cell_type": "code",
   "execution_count": null,
   "metadata": {},
   "outputs": [],
   "source": []
  }
 ],
 "metadata": {
  "kernelspec": {
   "display_name": "Python 3",
   "language": "python",
   "name": "python3"
  },
  "language_info": {
   "codemirror_mode": {
    "name": "ipython",
    "version": 3
   },
   "file_extension": ".py",
   "mimetype": "text/x-python",
   "name": "python",
   "nbconvert_exporter": "python",
   "pygments_lexer": "ipython3",
   "version": "3.11.5"
  }
 },
 "nbformat": 4,
 "nbformat_minor": 2
}
